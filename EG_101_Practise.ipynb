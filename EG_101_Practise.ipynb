{
  "nbformat": 4,
  "nbformat_minor": 0,
  "metadata": {
    "colab": {
      "provenance": [],
      "authorship_tag": "ABX9TyNP/1bTGuPomKvgypqr8iew",
      "include_colab_link": true
    },
    "kernelspec": {
      "name": "python3",
      "display_name": "Python 3"
    },
    "language_info": {
      "name": "python"
    }
  },
  "cells": [
    {
      "cell_type": "markdown",
      "metadata": {
        "id": "view-in-github",
        "colab_type": "text"
      },
      "source": [
        "<a href=\"https://colab.research.google.com/github/MishraShardenduCODES/FirstRep_dummy/blob/main/EG_101_Practise.ipynb\" target=\"_parent\"><img src=\"https://colab.research.google.com/assets/colab-badge.svg\" alt=\"Open In Colab\"/></a>"
      ]
    },
    {
      "cell_type": "code",
      "execution_count": 22,
      "metadata": {
        "colab": {
          "base_uri": "https://localhost:8080/"
        },
        "id": "waTXjvWCSRq1",
        "outputId": "3d15f7f5-1f3a-44eb-e569-d89f32a40b4d"
      },
      "outputs": [
        {
          "output_type": "stream",
          "name": "stdout",
          "text": [
            "/bin/bash: line 1: cd: MyDrive: No such file or directory\n",
            "/bin/bash: line 1: cd: Shardendu: No such file or directory\n"
          ]
        }
      ],
      "source": [
        "!cd MyDrive\n",
        "!cd Shardendu"
      ]
    },
    {
      "cell_type": "code",
      "source": [
        "!mkdir EG_101_practise"
      ],
      "metadata": {
        "id": "v3oVInfiSkbP"
      },
      "execution_count": 23,
      "outputs": []
    },
    {
      "cell_type": "code",
      "source": [
        "!cd EG_101_practise/"
      ],
      "metadata": {
        "id": "3j7VA6hKSrZf"
      },
      "execution_count": 24,
      "outputs": []
    },
    {
      "cell_type": "code",
      "source": [
        "!mkdir \"C++ PROGRAM\""
      ],
      "metadata": {
        "id": "3rPNJDY7SwFY"
      },
      "execution_count": 25,
      "outputs": []
    },
    {
      "cell_type": "code",
      "source": [
        "!cd \"C++ PROGRAM\""
      ],
      "metadata": {
        "id": "DpebZxJ3S2Q9"
      },
      "execution_count": 26,
      "outputs": []
    },
    {
      "cell_type": "code",
      "source": [
        "from google.colab import drive\n",
        "drive.mount('/content/drive')"
      ],
      "metadata": {
        "colab": {
          "base_uri": "https://localhost:8080/"
        },
        "id": "qqSM3K_JS7Ra",
        "outputId": "24dbf89f-442b-40c1-8dff-9865a1708a9a"
      },
      "execution_count": 27,
      "outputs": [
        {
          "output_type": "stream",
          "name": "stdout",
          "text": [
            "Drive already mounted at /content/drive; to attempt to forcibly remount, call drive.mount(\"/content/drive\", force_remount=True).\n"
          ]
        }
      ]
    },
    {
      "cell_type": "code",
      "source": [
        "drive.mount(\"/content/drive\", force_remount=True)"
      ],
      "metadata": {
        "colab": {
          "base_uri": "https://localhost:8080/"
        },
        "id": "7qAcmfeMS94o",
        "outputId": "6a76547b-c747-4c49-9872-784117a575fb"
      },
      "execution_count": 28,
      "outputs": [
        {
          "output_type": "stream",
          "name": "stdout",
          "text": [
            "Mounted at /content/drive\n"
          ]
        }
      ]
    },
    {
      "cell_type": "code",
      "source": [
        "%%writefile Hello.c\n",
        "#include<stdio.h>\n",
        "int main(){\n",
        "  printf(\"Hello I am Shardendu Mishra, from Kanpur UP\");\n",
        "  return 0;\n",
        "}"
      ],
      "metadata": {
        "colab": {
          "base_uri": "https://localhost:8080/"
        },
        "id": "59D6qTV-TGY_",
        "outputId": "2061c142-1506-4527-881d-12b7ef670cdb"
      },
      "execution_count": 29,
      "outputs": [
        {
          "output_type": "stream",
          "name": "stdout",
          "text": [
            "Writing Hello.c\n"
          ]
        }
      ]
    },
    {
      "cell_type": "code",
      "source": [
        "!gcc Hello.c -o Hello"
      ],
      "metadata": {
        "id": "jGkVxc96TOXj"
      },
      "execution_count": 30,
      "outputs": []
    },
    {
      "cell_type": "code",
      "source": [
        "!./Hello"
      ],
      "metadata": {
        "colab": {
          "base_uri": "https://localhost:8080/"
        },
        "id": "CD7VQf9ITVcA",
        "outputId": "9c0877d3-ed31-47f3-e99f-7fbc37eb794f"
      },
      "execution_count": 31,
      "outputs": [
        {
          "output_type": "stream",
          "name": "stdout",
          "text": [
            "Hello I am Shardendu Mishra, from Kanpur UP"
          ]
        }
      ]
    },
    {
      "cell_type": "code",
      "source": [
        "%%writefile hello.cpp\n",
        "\n",
        "#include <iostream>\n",
        "using namespace std;\n",
        "\n",
        "int main() {\n",
        "    cout << \"Hello I am Shardendu Mishra from Kanpur UP\" << endl;\n",
        "    return 0;\n",
        "}\n"
      ],
      "metadata": {
        "colab": {
          "base_uri": "https://localhost:8080/"
        },
        "id": "M_fjKeKTTX41",
        "outputId": "48f973ce-0f57-4e2d-c7bd-344118680782"
      },
      "execution_count": 32,
      "outputs": [
        {
          "output_type": "stream",
          "name": "stdout",
          "text": [
            "Writing hello.cpp\n"
          ]
        }
      ]
    },
    {
      "cell_type": "code",
      "source": [
        "!g++ hello.cpp -o hello.out"
      ],
      "metadata": {
        "id": "Vq1QzOALTZqF"
      },
      "execution_count": 33,
      "outputs": []
    },
    {
      "cell_type": "code",
      "source": [
        "!./hello.out"
      ],
      "metadata": {
        "colab": {
          "base_uri": "https://localhost:8080/"
        },
        "id": "2fHR88_STbHg",
        "outputId": "be45178c-231d-4134-84d6-ad3a6fc5920b"
      },
      "execution_count": 34,
      "outputs": [
        {
          "output_type": "stream",
          "name": "stdout",
          "text": [
            "Hello I am Shardendu Mishra from Kanpur UP\n"
          ]
        }
      ]
    }
  ]
}