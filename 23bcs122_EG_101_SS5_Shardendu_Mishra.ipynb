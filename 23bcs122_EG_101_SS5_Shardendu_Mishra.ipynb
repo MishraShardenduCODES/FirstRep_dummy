{
  "nbformat": 4,
  "nbformat_minor": 0,
  "metadata": {
    "colab": {
      "provenance": [],
      "authorship_tag": "ABX9TyMNHgMugSfyquM7jtq3Ccvi",
      "include_colab_link": true
    },
    "kernelspec": {
      "name": "python3",
      "display_name": "Python 3"
    },
    "language_info": {
      "name": "python"
    }
  },
  "cells": [
    {
      "cell_type": "markdown",
      "metadata": {
        "id": "view-in-github",
        "colab_type": "text"
      },
      "source": [
        "<a href=\"https://colab.research.google.com/github/MishraShardenduCODES/FirstRep_dummy/blob/main/23bcs122_EG_101_SS5_Shardendu_Mishra.ipynb\" target=\"_parent\"><img src=\"https://colab.research.google.com/assets/colab-badge.svg\" alt=\"Open In Colab\"/></a>"
      ]
    },
    {
      "cell_type": "markdown",
      "source": [
        "#This is Eg-101 Self Study Assignment - 5\n",
        "##These are different unix commands  "
      ],
      "metadata": {
        "id": "_H94EQM7DNyg"
      }
    },
    {
      "cell_type": "code",
      "execution_count": 6,
      "metadata": {
        "id": "SHJnum343g_X"
      },
      "outputs": [],
      "source": [
        "# Write a tutorial on different Unix commands\n",
        "# (as discussed in the class) and their\n",
        "# usage using a colab notebook.\n",
        "# Use the markdown cells to write the description\n",
        "# and the code cells for showing demonstration of the command."
      ]
    },
    {
      "cell_type": "code",
      "source": [
        "# Install tree command (if not available)\n",
        "!apt-get install tree"
      ],
      "metadata": {
        "id": "KKAR0rXW4OiU",
        "colab": {
          "base_uri": "https://localhost:8080/"
        },
        "outputId": "fbd693d6-5876-4fa7-af1c-05ce10695d9d"
      },
      "execution_count": 7,
      "outputs": [
        {
          "output_type": "stream",
          "name": "stdout",
          "text": [
            "Reading package lists... Done\n",
            "Building dependency tree... Done\n",
            "Reading state information... Done\n",
            "tree is already the newest version (2.0.2-1).\n",
            "0 upgraded, 0 newly installed, 0 to remove and 15 not upgraded.\n"
          ]
        }
      ]
    },
    {
      "cell_type": "code",
      "source": [
        "# 1. ls - List directory contents\n",
        "!ls"
      ],
      "metadata": {
        "colab": {
          "base_uri": "https://localhost:8080/"
        },
        "id": "nsO6Lr8SBw81",
        "outputId": "a441e83f-2d8f-496f-800c-d8c6a8bcd26e"
      },
      "execution_count": 8,
      "outputs": [
        {
          "output_type": "stream",
          "name": "stdout",
          "text": [
            "anscombe.json\t\t     california_housing_train.csv  mnist_train_small.csv  README.md\n",
            "california_housing_test.csv  mnist_test.csv\t\t   new_file.txt\n"
          ]
        }
      ]
    },
    {
      "cell_type": "code",
      "source": [
        "# 2. cd - Change the current directory\n",
        "%cd /content/sample_data"
      ],
      "metadata": {
        "colab": {
          "base_uri": "https://localhost:8080/"
        },
        "id": "x5uEP0KABuAG",
        "outputId": "4f85c1f6-eae1-49eb-dead-627d6011ea0b"
      },
      "execution_count": 34,
      "outputs": [
        {
          "output_type": "stream",
          "name": "stdout",
          "text": [
            "[Errno 20] Not a directory: 'california_housing_test.csv'\n",
            "/content/sample_data\n"
          ]
        }
      ]
    },
    {
      "cell_type": "code",
      "source": [
        "# 3. pwd - Print the current working directory\n",
        "!pwd"
      ],
      "metadata": {
        "colab": {
          "base_uri": "https://localhost:8080/"
        },
        "id": "AEqd4TRYBjjh",
        "outputId": "8230a34b-7e90-4a17-bc0e-202acdd15ce1"
      },
      "execution_count": 10,
      "outputs": [
        {
          "output_type": "stream",
          "name": "stdout",
          "text": [
            "/content/sample_data\n"
          ]
        }
      ]
    },
    {
      "cell_type": "code",
      "source": [
        "# 4. mkdir - Make directories\n",
        "!mkdir new_directory"
      ],
      "metadata": {
        "id": "nrdpXqdMBjga"
      },
      "execution_count": 11,
      "outputs": []
    },
    {
      "cell_type": "code",
      "source": [
        "# 5. rmdir - Remove directories\n",
        "!rmdir new_directory"
      ],
      "metadata": {
        "id": "63gSXejVBjdF"
      },
      "execution_count": 12,
      "outputs": []
    },
    {
      "cell_type": "code",
      "source": [
        "# 6. touch - Create an empty file\n",
        "!touch new_file.txt"
      ],
      "metadata": {
        "id": "j_cvQ1bBBjZ-"
      },
      "execution_count": 13,
      "outputs": []
    },
    {
      "cell_type": "code",
      "source": [
        "# 7. cp - Copy files and directories\n",
        "!cp sample_data/README.md sample_data/README_copy.md"
      ],
      "metadata": {
        "colab": {
          "base_uri": "https://localhost:8080/"
        },
        "id": "cl7GblacBjVJ",
        "outputId": "30c122a2-6f2e-4dc1-be5b-6eebe9f7efed"
      },
      "execution_count": 14,
      "outputs": [
        {
          "output_type": "stream",
          "name": "stdout",
          "text": [
            "cp: cannot stat 'sample_data/README.md': No such file or directory\n"
          ]
        }
      ]
    },
    {
      "cell_type": "code",
      "source": [
        "# 8. mv - Move or rename files and directories\n",
        "!mv sample_data/README_copy.md sample_data/README_renamed.md"
      ],
      "metadata": {
        "colab": {
          "base_uri": "https://localhost:8080/"
        },
        "id": "VSHZV4JNBah0",
        "outputId": "5a568171-bc49-4295-8d90-49ac61764fff"
      },
      "execution_count": 15,
      "outputs": [
        {
          "output_type": "stream",
          "name": "stdout",
          "text": [
            "mv: cannot stat 'sample_data/README_copy.md': No such file or directory\n"
          ]
        }
      ]
    },
    {
      "cell_type": "code",
      "source": [
        "# 9. rm - Remove/delete files or directories\n",
        "!rm sample_data/README_renamed.md"
      ],
      "metadata": {
        "colab": {
          "base_uri": "https://localhost:8080/"
        },
        "id": "IRfIOuQiBaZS",
        "outputId": "028c66fa-3873-427e-a9f0-66993fced664"
      },
      "execution_count": 16,
      "outputs": [
        {
          "output_type": "stream",
          "name": "stdout",
          "text": [
            "rm: cannot remove 'sample_data/README_renamed.md': No such file or directory\n"
          ]
        }
      ]
    },
    {
      "cell_type": "code",
      "source": [
        "# 10. cat - Display file content\n",
        "!cat sample_data/README.md"
      ],
      "metadata": {
        "colab": {
          "base_uri": "https://localhost:8080/"
        },
        "id": "dejn2YTCBaQn",
        "outputId": "5ea9ffef-1382-4508-db8f-8d25cc87c1e4"
      },
      "execution_count": 17,
      "outputs": [
        {
          "output_type": "stream",
          "name": "stdout",
          "text": [
            "cat: sample_data/README.md: No such file or directory\n"
          ]
        }
      ]
    },
    {
      "cell_type": "code",
      "source": [
        "# 11. more - Display content page by page\n",
        "!more sample_data/README.md"
      ],
      "metadata": {
        "colab": {
          "base_uri": "https://localhost:8080/"
        },
        "id": "fJJoi2IQBaHw",
        "outputId": "b3cf2ef6-9bf7-4b99-82d2-5a565419c2a1"
      },
      "execution_count": 18,
      "outputs": [
        {
          "output_type": "stream",
          "name": "stdout",
          "text": [
            "more: cannot open sample_data/README.md: No such file or directory\n"
          ]
        }
      ]
    },
    {
      "cell_type": "code",
      "source": [
        "# 12. less - Display content interactively\n",
        "!less sample_data/README.md"
      ],
      "metadata": {
        "colab": {
          "base_uri": "https://localhost:8080/"
        },
        "id": "Sha78bUiBKtv",
        "outputId": "e0cf0abf-9b86-4ded-e8a8-583690df2956"
      },
      "execution_count": 19,
      "outputs": [
        {
          "output_type": "stream",
          "name": "stdout",
          "text": [
            "sample_data/README.md: No such file or directory\r\n"
          ]
        }
      ]
    },
    {
      "cell_type": "code",
      "source": [
        "# 13. head - Display the beginning of a file\n",
        "!head sample_data/README.md"
      ],
      "metadata": {
        "colab": {
          "base_uri": "https://localhost:8080/"
        },
        "id": "HGnmLsfWBKn0",
        "outputId": "ed6d2bfc-54ae-4932-d066-21c3f5e92258"
      },
      "execution_count": 20,
      "outputs": [
        {
          "output_type": "stream",
          "name": "stdout",
          "text": [
            "head: cannot open 'sample_data/README.md' for reading: No such file or directory\n"
          ]
        }
      ]
    },
    {
      "cell_type": "code",
      "source": [
        "# 14. tail - Display the end of a file\n",
        "!tail sample_data/README.md"
      ],
      "metadata": {
        "colab": {
          "base_uri": "https://localhost:8080/"
        },
        "id": "CQOH7vYqBKgn",
        "outputId": "463bbb8f-2747-49a9-e0ab-bf605578b812"
      },
      "execution_count": 21,
      "outputs": [
        {
          "output_type": "stream",
          "name": "stdout",
          "text": [
            "tail: cannot open 'sample_data/README.md' for reading: No such file or directory\n"
          ]
        }
      ]
    },
    {
      "cell_type": "code",
      "source": [
        "# 15. grep - Search for specific patterns in files\n",
        "!grep \"data\" sample_data/README.md"
      ],
      "metadata": {
        "colab": {
          "base_uri": "https://localhost:8080/"
        },
        "id": "68iyVSAFBKZ3",
        "outputId": "62fa77ce-0d6d-4cab-a375-795d9e8e45a8"
      },
      "execution_count": 22,
      "outputs": [
        {
          "output_type": "stream",
          "name": "stdout",
          "text": [
            "grep: sample_data/README.md: No such file or directory\n"
          ]
        }
      ]
    },
    {
      "cell_type": "code",
      "source": [
        "# 16. find - Search for files in a directory hierarchy\n",
        "!find /content/sample_data -name \"*.md\""
      ],
      "metadata": {
        "colab": {
          "base_uri": "https://localhost:8080/"
        },
        "id": "E76WOK7-BKSN",
        "outputId": "a97572f5-5fb8-4e16-8c8f-ff5423e26b3b"
      },
      "execution_count": 23,
      "outputs": [
        {
          "output_type": "stream",
          "name": "stdout",
          "text": [
            "/content/sample_data/README.md\n"
          ]
        }
      ]
    },
    {
      "cell_type": "code",
      "source": [
        "# 17. chmod - Change file permissions\n",
        "!chmod 755 sample_data/README.md"
      ],
      "metadata": {
        "colab": {
          "base_uri": "https://localhost:8080/"
        },
        "id": "r8yUGMa9BKLX",
        "outputId": "90cd2f82-686e-448e-b329-96df2e701569"
      },
      "execution_count": 24,
      "outputs": [
        {
          "output_type": "stream",
          "name": "stdout",
          "text": [
            "chmod: cannot access 'sample_data/README.md': No such file or directory\n"
          ]
        }
      ]
    },
    {
      "cell_type": "code",
      "source": [
        "# 18. chown - Change file ownership\n",
        "!chown user:group sample_data/README.md"
      ],
      "metadata": {
        "colab": {
          "base_uri": "https://localhost:8080/"
        },
        "id": "V7UcQlQvA7Vy",
        "outputId": "3dff6d58-63aa-43ca-9a29-5f48849505ba"
      },
      "execution_count": 25,
      "outputs": [
        {
          "output_type": "stream",
          "name": "stdout",
          "text": [
            "chown: invalid user: ‘user:group’\n"
          ]
        }
      ]
    },
    {
      "cell_type": "code",
      "source": [
        "# 19. tar - Archive files\n",
        "!tar -cvf sample_data/archive.tar sample_data/README.md"
      ],
      "metadata": {
        "colab": {
          "base_uri": "https://localhost:8080/"
        },
        "id": "F5JthAb0A7Se",
        "outputId": "f6261bed-5609-4425-d09b-f93d2ff89923"
      },
      "execution_count": 26,
      "outputs": [
        {
          "output_type": "stream",
          "name": "stdout",
          "text": [
            "tar: sample_data/archive.tar: Cannot open: No such file or directory\n",
            "tar: Error is not recoverable: exiting now\n"
          ]
        }
      ]
    },
    {
      "cell_type": "code",
      "source": [
        "# 20. gzip - Compress files\n",
        "!gzip sample_data/README.md"
      ],
      "metadata": {
        "colab": {
          "base_uri": "https://localhost:8080/"
        },
        "id": "CdKhkdicA7Oa",
        "outputId": "b509a5ee-0074-4498-cb8f-8f7c29aaf177"
      },
      "execution_count": 27,
      "outputs": [
        {
          "output_type": "stream",
          "name": "stdout",
          "text": [
            "gzip: sample_data/README.md: No such file or directory\n"
          ]
        }
      ]
    },
    {
      "cell_type": "code",
      "source": [
        "# 21. unzip - Extract files from a zip archive\n",
        "!unzip sample_data/archive.zip"
      ],
      "metadata": {
        "colab": {
          "base_uri": "https://localhost:8080/"
        },
        "id": "EmCdkd4qA7Is",
        "outputId": "315fd34e-f4a9-4e1d-d531-9682d116f32e"
      },
      "execution_count": 28,
      "outputs": [
        {
          "output_type": "stream",
          "name": "stdout",
          "text": [
            "unzip:  cannot find or open sample_data/archive.zip, sample_data/archive.zip.zip or sample_data/archive.zip.ZIP.\n"
          ]
        }
      ]
    },
    {
      "cell_type": "code",
      "source": [
        "# 22. sort - Sort lines in a file\n",
        "!sort sample_data/README.md"
      ],
      "metadata": {
        "colab": {
          "base_uri": "https://localhost:8080/"
        },
        "id": "Wq7ZRhDEA64S",
        "outputId": "4f8af64f-1b26-400b-a1be-ed487a9c3c04"
      },
      "execution_count": 29,
      "outputs": [
        {
          "output_type": "stream",
          "name": "stdout",
          "text": [
            "sort: cannot read: sample_data/README.md: No such file or directory\n"
          ]
        }
      ]
    },
    {
      "cell_type": "code",
      "source": [
        "# 23. wget - Download files from the internet\n",
        "!wget https://www.godaddy.com/"
      ],
      "metadata": {
        "colab": {
          "base_uri": "https://localhost:8080/"
        },
        "id": "BIViUhPkAyMc",
        "outputId": "2a92bb4c-cf87-404d-814d-62709c78a984"
      },
      "execution_count": 35,
      "outputs": [
        {
          "output_type": "stream",
          "name": "stdout",
          "text": [
            "--2023-12-10 14:02:46--  https://www.godaddy.com/\n",
            "Resolving www.godaddy.com (www.godaddy.com)... 23.13.154.6, 2600:1408:c400:1881::1771, 2600:1408:c400:1887::1771\n",
            "Connecting to www.godaddy.com (www.godaddy.com)|23.13.154.6|:443... connected.\n",
            "HTTP request sent, awaiting response... 403 Forbidden\n",
            "2023-12-10 14:02:46 ERROR 403: Forbidden.\n",
            "\n"
          ]
        }
      ]
    },
    {
      "cell_type": "code",
      "source": [
        "# 24. diff - Compare files line by line\n",
        "!diff sample_data/README.md sample_data/README_copy.md"
      ],
      "metadata": {
        "colab": {
          "base_uri": "https://localhost:8080/"
        },
        "id": "ePyCNPqVA1DZ",
        "outputId": "e3dd90db-d39f-4f1d-9b6e-61497d9c2184"
      },
      "execution_count": 31,
      "outputs": [
        {
          "output_type": "stream",
          "name": "stdout",
          "text": [
            "diff: sample_data/README.md: No such file or directory\n",
            "diff: sample_data/README_copy.md: No such file or directory\n"
          ]
        }
      ]
    },
    {
      "cell_type": "code",
      "source": [
        "# 25. history - Display command history\n",
        "!history"
      ],
      "metadata": {
        "id": "-5QBHNSXAmUY"
      },
      "execution_count": 32,
      "outputs": []
    }
  ]
}