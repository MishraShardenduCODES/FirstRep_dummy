{
  "nbformat": 4,
  "nbformat_minor": 0,
  "metadata": {
    "colab": {
      "provenance": [],
      "authorship_tag": "ABX9TyMNHgMugSfyquM7jtq3Ccvi",
      "include_colab_link": true
    },
    "kernelspec": {
      "name": "python3",
      "display_name": "Python 3"
    },
    "language_info": {
      "name": "python"
    }
  },
  "cells": [
    {
      "cell_type": "markdown",
      "metadata": {
        "id": "view-in-github",
        "colab_type": "text"
      },
      "source": [
        "<a href=\"https://colab.research.google.com/github/MishraShardenduCODES/FirstRep_dummy/blob/main/23bcs122_EG_101_SS5_Shardendu_Mishra.ipynb\" target=\"_parent\"><img src=\"https://colab.research.google.com/assets/colab-badge.svg\" alt=\"Open In Colab\"/></a>"
      ]
    },
    {
      "cell_type": "markdown",
      "source": [
        "#This is Eg-101 Self Study Assignment - 5\n",
        "##These are different unix commands  "
      ],
      "metadata": {
        "id": "_H94EQM7DNyg"
      }
    },
    {
      "cell_type": "code",
      "execution_count": 6,
      "metadata": {
        "id": "SHJnum343g_X"
      },
      "outputs": [],
      "source": [
        "# Write a tutorial on different Unix commands\n",
        "# (as discussed in the class) and their\n",
        "# usage using a colab notebook.\n",
        "# Use the markdown cells to write the description\n",
        "# and the code cells for showing demonstration of the command."
      ]
    },
    {
      "cell_type": "code",
      "source": [
        "# Install tree command (if not available)\n",
        "!apt-get install tree"
      ],
      "metadata": {
        "id": "KKAR0rXW4OiU"
      },
      "execution_count": null,
      "outputs": []
    },
    {
      "cell_type": "code",
      "source": [
        "# 1. ls - List directory contents\n",
        "!ls"
      ],
      "metadata": {
        "id": "nsO6Lr8SBw81"
      },
      "execution_count": null,
      "outputs": []
    },
    {
      "cell_type": "code",
      "source": [
        "# 2. cd - Change the current directory\n",
        "%cd /content/sample_data"
      ],
      "metadata": {
        "id": "x5uEP0KABuAG"
      },
      "execution_count": null,
      "outputs": []
    },
    {
      "cell_type": "code",
      "source": [
        "# 3. pwd - Print the current working directory\n",
        "!pwd"
      ],
      "metadata": {
        "id": "AEqd4TRYBjjh"
      },
      "execution_count": null,
      "outputs": []
    },
    {
      "cell_type": "code",
      "source": [
        "# 4. mkdir - Make directories\n",
        "!mkdir new_directory"
      ],
      "metadata": {
        "id": "nrdpXqdMBjga"
      },
      "execution_count": 1,
      "outputs": []
    },
    {
      "cell_type": "code",
      "source": [
        "# 5. rmdir - Remove directories\n",
        "!rmdir new_directory"
      ],
      "metadata": {
        "id": "63gSXejVBjdF"
      },
      "execution_count": 12,
      "outputs": []
    },
    {
      "cell_type": "code",
      "source": [
        "# 6. touch - Create an empty file\n",
        "!touch new_file.txt"
      ],
      "metadata": {
        "id": "j_cvQ1bBBjZ-"
      },
      "execution_count": 13,
      "outputs": []
    },
    {
      "cell_type": "code",
      "source": [
        "# 7. cp - Copy files and directories\n",
        "!cp sample_data/README.md sample_data/README_copy.md"
      ],
      "metadata": {
        "id": "cl7GblacBjVJ"
      },
      "execution_count": null,
      "outputs": []
    },
    {
      "cell_type": "code",
      "source": [
        "# 8. mv - Move or rename files and directories\n",
        "!mv sample_data/README_copy.md sample_data/README_renamed.md"
      ],
      "metadata": {
        "id": "VSHZV4JNBah0"
      },
      "execution_count": null,
      "outputs": []
    },
    {
      "cell_type": "code",
      "source": [
        "# 9. rm - Remove/delete files or directories\n",
        "!rm sample_data/README_renamed.md"
      ],
      "metadata": {
        "id": "IRfIOuQiBaZS"
      },
      "execution_count": null,
      "outputs": []
    },
    {
      "cell_type": "code",
      "source": [
        "# 10. cat - Display file content\n",
        "!cat sample_data/README.md"
      ],
      "metadata": {
        "id": "dejn2YTCBaQn"
      },
      "execution_count": null,
      "outputs": []
    },
    {
      "cell_type": "code",
      "source": [
        "# 11. more - Display content page by page\n",
        "!more sample_data/README.md"
      ],
      "metadata": {
        "id": "fJJoi2IQBaHw"
      },
      "execution_count": null,
      "outputs": []
    },
    {
      "cell_type": "code",
      "source": [
        "# 12. less - Display content interactively\n",
        "!less sample_data/README.md"
      ],
      "metadata": {
        "id": "Sha78bUiBKtv"
      },
      "execution_count": null,
      "outputs": []
    },
    {
      "cell_type": "code",
      "source": [
        "# 13. head - Display the beginning of a file\n",
        "!head sample_data/README.md"
      ],
      "metadata": {
        "id": "HGnmLsfWBKn0"
      },
      "execution_count": null,
      "outputs": []
    },
    {
      "cell_type": "code",
      "source": [
        "# 14. tail - Display the end of a file\n",
        "!tail sample_data/README.md"
      ],
      "metadata": {
        "id": "CQOH7vYqBKgn"
      },
      "execution_count": null,
      "outputs": []
    },
    {
      "cell_type": "code",
      "source": [
        "# 15. grep - Search for specific patterns in files\n",
        "!grep \"data\" sample_data/README.md"
      ],
      "metadata": {
        "id": "68iyVSAFBKZ3"
      },
      "execution_count": null,
      "outputs": []
    },
    {
      "cell_type": "code",
      "source": [
        "# 16. find - Search for files in a directory hierarchy\n",
        "!find /content/sample_data -name \"*.md\""
      ],
      "metadata": {
        "id": "E76WOK7-BKSN"
      },
      "execution_count": null,
      "outputs": []
    },
    {
      "cell_type": "code",
      "source": [
        "# 17. chmod - Change file permissions\n",
        "!chmod 755 sample_data/README.md"
      ],
      "metadata": {
        "id": "r8yUGMa9BKLX"
      },
      "execution_count": null,
      "outputs": []
    },
    {
      "cell_type": "code",
      "source": [
        "# 18. chown - Change file ownership\n",
        "!chown user:group sample_data/README.md"
      ],
      "metadata": {
        "id": "V7UcQlQvA7Vy"
      },
      "execution_count": null,
      "outputs": []
    },
    {
      "cell_type": "code",
      "source": [
        "# 19. tar - Archive files\n",
        "!tar -cvf sample_data/archive.tar sample_data/README.md"
      ],
      "metadata": {
        "id": "F5JthAb0A7Se"
      },
      "execution_count": null,
      "outputs": []
    },
    {
      "cell_type": "code",
      "source": [
        "# 20. gzip - Compress files\n",
        "!gzip sample_data/README.md"
      ],
      "metadata": {
        "id": "CdKhkdicA7Oa"
      },
      "execution_count": null,
      "outputs": []
    },
    {
      "cell_type": "code",
      "source": [
        "# 21. unzip - Extract files from a zip archive\n",
        "!unzip sample_data/archive.zip"
      ],
      "metadata": {
        "id": "EmCdkd4qA7Is"
      },
      "execution_count": null,
      "outputs": []
    },
    {
      "cell_type": "code",
      "source": [
        "# 22. sort - Sort lines in a file\n",
        "!sort sample_data/README.md"
      ],
      "metadata": {
        "id": "Wq7ZRhDEA64S"
      },
      "execution_count": null,
      "outputs": []
    },
    {
      "cell_type": "code",
      "source": [
        "# 23. wget - Download files from the internet\n",
        "!wget https://www.godaddy.com/"
      ],
      "metadata": {
        "id": "BIViUhPkAyMc"
      },
      "execution_count": null,
      "outputs": []
    },
    {
      "cell_type": "code",
      "source": [
        "# 24. diff - Compare files line by line\n",
        "!diff sample_data/README.md sample_data/README_copy.md"
      ],
      "metadata": {
        "id": "ePyCNPqVA1DZ"
      },
      "execution_count": null,
      "outputs": []
    },
    {
      "cell_type": "code",
      "source": [
        "# 25. history - Display command history\n",
        "!history"
      ],
      "metadata": {
        "id": "-5QBHNSXAmUY"
      },
      "execution_count": 32,
      "outputs": []
    }
  ]
}