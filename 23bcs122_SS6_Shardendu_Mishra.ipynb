{
  "nbformat": 4,
  "nbformat_minor": 0,
  "metadata": {
    "colab": {
      "provenance": [],
      "authorship_tag": "ABX9TyOh5TDv6qtA+Aoj0SPzFoWw",
      "include_colab_link": true
    },
    "kernelspec": {
      "name": "python3",
      "display_name": "Python 3"
    },
    "language_info": {
      "name": "python"
    }
  },
  "cells": [
    {
      "cell_type": "markdown",
      "metadata": {
        "id": "view-in-github",
        "colab_type": "text"
      },
      "source": [
        "<a href=\"https://colab.research.google.com/github/MishraShardenduCODES/FirstRep_dummy/blob/main/23bcs122_SS6_Shardendu_Mishra.ipynb\" target=\"_parent\"><img src=\"https://colab.research.google.com/assets/colab-badge.svg\" alt=\"Open In Colab\"/></a>"
      ]
    },
    {
      "cell_type": "markdown",
      "source": [
        "# This is EG-101 self study assingment 6\n",
        "\n",
        "##In this we learn to use GDB on colab and execute a C++ code on it\n",
        "\n",
        "###This code sorts the array in descending order it is the code for Bubble sort\n",
        "\n",
        "\n",
        "####This assignment is done by : Shardendu Mishra\n"
      ],
      "metadata": {
        "id": "fMoEggv5Q4qx"
      }
    },
    {
      "cell_type": "code",
      "execution_count": 2,
      "metadata": {
        "colab": {
          "base_uri": "https://localhost:8080/"
        },
        "id": "sSUfwPZ1PZ7s",
        "outputId": "cf69e5f3-925e-44e0-a338-bc545aaf4c21"
      },
      "outputs": [
        {
          "output_type": "stream",
          "name": "stdout",
          "text": [
            "\r0% [Working]\r            \rHit:1 https://cloud.r-project.org/bin/linux/ubuntu jammy-cran40/ InRelease\n",
            "\r0% [Waiting for headers] [Connecting to security.ubuntu.com] [Connecting to ppa\r                                                                               \rHit:2 http://archive.ubuntu.com/ubuntu jammy InRelease\n",
            "\r0% [Waiting for headers] [Connecting to security.ubuntu.com] [Connecting to ppa\r                                                                               \rHit:3 http://archive.ubuntu.com/ubuntu jammy-updates InRelease\n",
            "\r0% [Waiting for headers] [Connecting to security.ubuntu.com (185.125.190.39)] [\r                                                                               \rHit:4 https://developer.download.nvidia.com/compute/cuda/repos/ubuntu2204/x86_64  InRelease\n",
            "Hit:5 http://archive.ubuntu.com/ubuntu jammy-backports InRelease\n",
            "Hit:6 http://security.ubuntu.com/ubuntu jammy-security InRelease\n",
            "Hit:7 https://ppa.launchpadcontent.net/c2d4u.team/c2d4u4.0+/ubuntu jammy InRelease\n",
            "Hit:8 https://ppa.launchpadcontent.net/deadsnakes/ppa/ubuntu jammy InRelease\n",
            "Hit:9 https://ppa.launchpadcontent.net/graphics-drivers/ppa/ubuntu jammy InRelease\n",
            "Hit:10 https://ppa.launchpadcontent.net/ubuntugis/ppa/ubuntu jammy InRelease\n",
            "Reading package lists... Done\n",
            "Reading package lists... Done\n",
            "Building dependency tree... Done\n",
            "Reading state information... Done\n",
            "build-essential is already the newest version (12.9ubuntu3).\n",
            "gdb is already the newest version (12.1-0ubuntu1~22.04).\n",
            "0 upgraded, 0 newly installed, 0 to remove and 43 not upgraded.\n"
          ]
        }
      ],
      "source": [
        "!sudo apt-get update\n",
        "!sudo apt-get install -y gdb build-essential"
      ]
    },
    {
      "cell_type": "code",
      "source": [
        "%%writefile example.cpp\n",
        "#include <iostream>\n",
        "using namespace std;\n",
        "\n",
        "void fixMe(int num[], int count) {\n",
        "    for (int loopcounter = 0; loopcounter < count - 1; loopcounter++) {\n",
        "        int maxindex = loopcounter;\n",
        "\n",
        "        for (int j = loopcounter + 1; j < count; j++) {\n",
        "            if (num[j] > num[maxindex]) {\n",
        "                maxindex = j;\n",
        "            }\n",
        "        }\n",
        "\n",
        "        int temp = num[maxindex];\n",
        "        num[maxindex] = num[loopcounter];\n",
        "        num[loopcounter] = temp;\n",
        "\n",
        "        for (int m = 0; m < count; m++) {\n",
        "            cout << num[m] << \"\\t\";\n",
        "        }\n",
        "\n",
        "        cout << \"\\n\";\n",
        "    }\n",
        "}\n",
        "\n",
        "int main() {\n",
        "    int arr[] = {64, 25, 12, 22, 11};\n",
        "    int size = sizeof(arr) / sizeof(arr[0]);\n",
        "\n",
        "    cout << \"Original array: \";\n",
        "    for (int i = 0; i < size; i++) {\n",
        "        cout << arr[i] << \"\\t\";\n",
        "    }\n",
        "    cout << \"\\n\\n\";\n",
        "\n",
        "    cout << \"Sorting steps:\\n\";\n",
        "    fixMe(arr, size);\n",
        "\n",
        "    cout << \"\\nSorted array: \";\n",
        "    for (int i = 0; i < size; i++) {\n",
        "        cout << arr[i] << \"\\t\";\n",
        "    }\n",
        "    cout << \"\\n\";\n",
        "\n",
        "    return 0;\n",
        "}\n"
      ],
      "metadata": {
        "colab": {
          "base_uri": "https://localhost:8080/"
        },
        "id": "N_bEQzZlQhCj",
        "outputId": "126cd793-2019-437d-c7bf-777e8db57b4a"
      },
      "execution_count": 3,
      "outputs": [
        {
          "output_type": "stream",
          "name": "stdout",
          "text": [
            "Writing example.cpp\n"
          ]
        }
      ]
    },
    {
      "cell_type": "code",
      "source": [
        "!g++ -g -o output example.cpp\n"
      ],
      "metadata": {
        "id": "U0iAbdqbQp6L"
      },
      "execution_count": 4,
      "outputs": []
    },
    {
      "cell_type": "code",
      "source": [
        "!gdb ./output -ex='run'\n"
      ],
      "metadata": {
        "colab": {
          "base_uri": "https://localhost:8080/"
        },
        "id": "6NLZh26ZQrZF",
        "outputId": "41a94339-dd81-4213-8f88-ac5741a93ce4"
      },
      "execution_count": null,
      "outputs": [
        {
          "output_type": "stream",
          "name": "stdout",
          "text": [
            "\u001b[35;1mGNU gdb (Ubuntu 12.1-0ubuntu1~22.04) 12.1\u001b[m\n",
            "Copyright (C) 2022 Free Software Foundation, Inc.\n",
            "License GPLv3+: GNU GPL version 3 or later <http://gnu.org/licenses/gpl.html>\n",
            "This is free software: you are free to change and redistribute it.\n",
            "There is NO WARRANTY, to the extent permitted by law.\n",
            "Type \"show copying\" and \"show warranty\" for details.\n",
            "This GDB was configured as \"x86_64-linux-gnu\".\n",
            "Type \"show configuration\" for configuration details.\n",
            "For bug reporting instructions, please see:\n",
            "<https://www.gnu.org/software/gdb/bugs/>.\n",
            "Find the GDB manual and other documentation resources online at:\n",
            "    <http://www.gnu.org/software/gdb/documentation/>.\n",
            "\n",
            "For help, type \"help\".\n",
            "Type \"apropos word\" to search for commands related to \"word\"...\n",
            "Reading symbols from \u001b[32m./output\u001b[m...\n",
            "Starting program: \u001b[32m/content/output\u001b[m \n",
            "warning: Error disabling address space randomization: Operation not permitted\n",
            "[Thread debugging using libthread_db enabled]\n",
            "Using host libthread_db library \"\u001b[32m/lib/x86_64-linux-gnu/libthread_db.so.1\u001b[m\".\n",
            "Original array: 64\t25\t12\t22\t11\t\n",
            "\n",
            "Sorting steps:\n",
            "64\t25\t12\t22\t11\t\n",
            "64\t25\t12\t22\t11\t\n",
            "64\t25\t22\t12\t11\t\n",
            "64\t25\t22\t12\t11\t\n",
            "\n",
            "Sorted array: 64\t25\t22\t12\t11\t\n",
            "[Inferior 1 (process 2688) exited normally]\n",
            "\u001b[?2004h(gdb) "
          ]
        }
      ]
    }
  ]
}